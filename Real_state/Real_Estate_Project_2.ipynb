{
  "nbformat": 4,
  "nbformat_minor": 0,
  "metadata": {
    "kernelspec": {
      "display_name": "Python 3",
      "language": "python",
      "name": "python3"
    },
    "language_info": {
      "codemirror_mode": {
        "name": "ipython",
        "version": 3
      },
      "file_extension": ".py",
      "mimetype": "text/x-python",
      "name": "python",
      "nbconvert_exporter": "python",
      "pygments_lexer": "ipython3",
      "version": "3.9.0"
    },
    "colab": {
      "name": "Real Estate Project 2.ipynb",
      "provenance": []
    }
  },
  "cells": [
    {
      "cell_type": "markdown",
      "metadata": {
        "id": "h-I0PE0x_fn8"
      },
      "source": [
        "### Imports"
      ]
    },
    {
      "cell_type": "code",
      "metadata": {
        "id": "p5fYtlMC_foB"
      },
      "source": [
        "from bs4 import BeautifulSoup\n",
        "import requests\n",
        "import pandas as pd"
      ],
      "execution_count": 1,
      "outputs": []
    },
    {
      "cell_type": "markdown",
      "metadata": {
        "id": "I-y7CClZ_foC"
      },
      "source": [
        "### Put all together"
      ]
    },
    {
      "cell_type": "code",
      "metadata": {
        "id": "b8qBftbg_foC"
      },
      "source": [
        "# create empty dataframe\n",
        "real_estate = pd.DataFrame(columns=['Street','Regions','Beds','Baths','Price'])\n",
        "\n",
        "# scrape 3 pages \n",
        "# sequence of number (1 up 3,4 is not included)\n",
        "for i in range(1,4):\n",
        "    # website request\n",
        "    website = \"https://www.trulia.com/CA/San_Francisco/\"+ str(i) + \"_p/\"\n",
        "    response = requests.get(website)\n",
        "\n",
        "    # create soup object\n",
        "    soup = BeautifulSoup(response.content,'html.parser')\n",
        "\n",
        "    # result items\n",
        "    results = soup.find_all('li', {'class':'SearchResultsList__WideCell-b7y9ki-2'})\n",
        "\n",
        "    #update results\n",
        "    results_update=[]\n",
        "    for r in results:\n",
        "        if r.has_attr('data-testid'):\n",
        "            results_update.append(r)\n",
        "\n",
        "            \n",
        "    # Lists\n",
        "    streets = [result.find('div',{'data-testid':'property-street'}).get('title') for result in results_update]\n",
        "    regions = [result.find('div',{'data-testid':'property-region'}).get('title') for result in results_update]\n",
        "    bedrooms = [result.find('div',{'data-testid':'property-beds'}).get_text() for result in results_update]\n",
        "    bathrooms = [result.find('div',{'data-testid':'property-baths'}).get_text() for result in results_update]\n",
        "    prices = [result.find('div',{'data-testid':'property-price'}).get('title') for result in results_update]\n",
        "    \n",
        "    for k in range(len(streets)):\n",
        "        real_estate = real_estate.append({'Street':streets[k],\n",
        "                                          'Regions':regions[k],\n",
        "                                          'Beds':bedrooms[k],\n",
        "                                          'Baths':bathrooms[k],\n",
        "                                          'Price':prices[k],\n",
        "                                         },ignore_index=True)"
      ],
      "execution_count": 2,
      "outputs": []
    },
    {
      "cell_type": "code",
      "metadata": {
        "id": "eq8_SjX5_foD"
      },
      "source": [
        ""
      ],
      "execution_count": null,
      "outputs": []
    },
    {
      "cell_type": "markdown",
      "metadata": {
        "id": "evr5EnKK_foD"
      },
      "source": [
        "### Information about Dataframe"
      ]
    },
    {
      "cell_type": "code",
      "metadata": {
        "colab": {
          "base_uri": "https://localhost:8080/"
        },
        "id": "BTm9inek_foD",
        "outputId": "948527d6-cfcc-4e00-e0e1-be40555e684a"
      },
      "source": [
        "real_estate.info()"
      ],
      "execution_count": 3,
      "outputs": [
        {
          "output_type": "stream",
          "text": [
            "<class 'pandas.core.frame.DataFrame'>\n",
            "RangeIndex: 100 entries, 0 to 99\n",
            "Data columns (total 5 columns):\n",
            " #   Column   Non-Null Count  Dtype \n",
            "---  ------   --------------  ----- \n",
            " 0   Street   100 non-null    object\n",
            " 1   Regions  100 non-null    object\n",
            " 2   Beds     100 non-null    object\n",
            " 3   Baths    100 non-null    object\n",
            " 4   Price    100 non-null    object\n",
            "dtypes: object(5)\n",
            "memory usage: 4.0+ KB\n"
          ],
          "name": "stdout"
        }
      ]
    },
    {
      "cell_type": "code",
      "metadata": {
        "colab": {
          "base_uri": "https://localhost:8080/",
          "height": 204
        },
        "id": "9JGXtBlx_foE",
        "outputId": "23ef65ef-e3c6-4da0-c2de-55d03cd5de6b"
      },
      "source": [
        "real_estate.head()"
      ],
      "execution_count": 4,
      "outputs": [
        {
          "output_type": "execute_result",
          "data": {
            "text/html": [
              "<div>\n",
              "<style scoped>\n",
              "    .dataframe tbody tr th:only-of-type {\n",
              "        vertical-align: middle;\n",
              "    }\n",
              "\n",
              "    .dataframe tbody tr th {\n",
              "        vertical-align: top;\n",
              "    }\n",
              "\n",
              "    .dataframe thead th {\n",
              "        text-align: right;\n",
              "    }\n",
              "</style>\n",
              "<table border=\"1\" class=\"dataframe\">\n",
              "  <thead>\n",
              "    <tr style=\"text-align: right;\">\n",
              "      <th></th>\n",
              "      <th>Street</th>\n",
              "      <th>Regions</th>\n",
              "      <th>Beds</th>\n",
              "      <th>Baths</th>\n",
              "      <th>Price</th>\n",
              "    </tr>\n",
              "  </thead>\n",
              "  <tbody>\n",
              "    <tr>\n",
              "      <th>0</th>\n",
              "      <td>2018 42nd Ave</td>\n",
              "      <td>Outer Sunset, San Francisco, CA</td>\n",
              "      <td>2bd</td>\n",
              "      <td>1ba</td>\n",
              "      <td>$899,000</td>\n",
              "    </tr>\n",
              "    <tr>\n",
              "      <th>1</th>\n",
              "      <td>4366 25th St</td>\n",
              "      <td>Noe Valley, San Francisco, CA</td>\n",
              "      <td>3bd</td>\n",
              "      <td>2ba</td>\n",
              "      <td>$1,795,000</td>\n",
              "    </tr>\n",
              "    <tr>\n",
              "      <th>2</th>\n",
              "      <td>224 Sea Cliff Ave</td>\n",
              "      <td>Seacliff, San Francisco, CA</td>\n",
              "      <td>6bd</td>\n",
              "      <td>7ba</td>\n",
              "      <td>$15,375,000</td>\n",
              "    </tr>\n",
              "    <tr>\n",
              "      <th>3</th>\n",
              "      <td>45 Capra Way</td>\n",
              "      <td>Marina, San Francisco, CA</td>\n",
              "      <td>4bd</td>\n",
              "      <td>6ba</td>\n",
              "      <td>$10,300,000</td>\n",
              "    </tr>\n",
              "    <tr>\n",
              "      <th>4</th>\n",
              "      <td>122 Chicago Way</td>\n",
              "      <td>Crocker Amazon, San Francisco, CA</td>\n",
              "      <td>4bd</td>\n",
              "      <td>3ba</td>\n",
              "      <td>$1,095,000</td>\n",
              "    </tr>\n",
              "  </tbody>\n",
              "</table>\n",
              "</div>"
            ],
            "text/plain": [
              "              Street                            Regions Beds Baths        Price\n",
              "0      2018 42nd Ave    Outer Sunset, San Francisco, CA  2bd   1ba     $899,000\n",
              "1       4366 25th St      Noe Valley, San Francisco, CA  3bd   2ba   $1,795,000\n",
              "2  224 Sea Cliff Ave        Seacliff, San Francisco, CA  6bd   7ba  $15,375,000\n",
              "3       45 Capra Way          Marina, San Francisco, CA  4bd   6ba  $10,300,000\n",
              "4    122 Chicago Way  Crocker Amazon, San Francisco, CA  4bd   3ba   $1,095,000"
            ]
          },
          "metadata": {
            "tags": []
          },
          "execution_count": 4
        }
      ]
    },
    {
      "cell_type": "code",
      "metadata": {
        "colab": {
          "base_uri": "https://localhost:8080/",
          "height": 204
        },
        "id": "coScgTUZ_foF",
        "outputId": "5b3aa632-2dff-4c59-cd1e-40ec78b1504f"
      },
      "source": [
        "real_estate.tail()"
      ],
      "execution_count": 5,
      "outputs": [
        {
          "output_type": "execute_result",
          "data": {
            "text/html": [
              "<div>\n",
              "<style scoped>\n",
              "    .dataframe tbody tr th:only-of-type {\n",
              "        vertical-align: middle;\n",
              "    }\n",
              "\n",
              "    .dataframe tbody tr th {\n",
              "        vertical-align: top;\n",
              "    }\n",
              "\n",
              "    .dataframe thead th {\n",
              "        text-align: right;\n",
              "    }\n",
              "</style>\n",
              "<table border=\"1\" class=\"dataframe\">\n",
              "  <thead>\n",
              "    <tr style=\"text-align: right;\">\n",
              "      <th></th>\n",
              "      <th>Street</th>\n",
              "      <th>Regions</th>\n",
              "      <th>Beds</th>\n",
              "      <th>Baths</th>\n",
              "      <th>Price</th>\n",
              "    </tr>\n",
              "  </thead>\n",
              "  <tbody>\n",
              "    <tr>\n",
              "      <th>95</th>\n",
              "      <td>1506 25th St</td>\n",
              "      <td>Potrero Hill, San Francisco, CA</td>\n",
              "      <td>4bd</td>\n",
              "      <td>3ba</td>\n",
              "      <td>$1,995,000</td>\n",
              "    </tr>\n",
              "    <tr>\n",
              "      <th>96</th>\n",
              "      <td>262 Downey St</td>\n",
              "      <td>Ashbury Heights, San Francisco, CA</td>\n",
              "      <td>2bd</td>\n",
              "      <td>2ba</td>\n",
              "      <td>$1,199,000</td>\n",
              "    </tr>\n",
              "    <tr>\n",
              "      <th>97</th>\n",
              "      <td>148 Corwin St</td>\n",
              "      <td>Eureka Valley, San Francisco, CA</td>\n",
              "      <td>2bd</td>\n",
              "      <td>3ba</td>\n",
              "      <td>$1,699,000</td>\n",
              "    </tr>\n",
              "    <tr>\n",
              "      <th>98</th>\n",
              "      <td>898 Francisco St</td>\n",
              "      <td>Russian Hill, San Francisco, CA</td>\n",
              "      <td>6bd</td>\n",
              "      <td>7ba</td>\n",
              "      <td>$9,950,000</td>\n",
              "    </tr>\n",
              "    <tr>\n",
              "      <th>99</th>\n",
              "      <td>1828 Page St</td>\n",
              "      <td>Haight, San Francisco, CA</td>\n",
              "      <td>2bd</td>\n",
              "      <td>2ba</td>\n",
              "      <td>$1,395,000</td>\n",
              "    </tr>\n",
              "  </tbody>\n",
              "</table>\n",
              "</div>"
            ],
            "text/plain": [
              "              Street                             Regions Beds Baths       Price\n",
              "95      1506 25th St     Potrero Hill, San Francisco, CA  4bd   3ba  $1,995,000\n",
              "96     262 Downey St  Ashbury Heights, San Francisco, CA  2bd   2ba  $1,199,000\n",
              "97     148 Corwin St    Eureka Valley, San Francisco, CA  2bd   3ba  $1,699,000\n",
              "98  898 Francisco St     Russian Hill, San Francisco, CA  6bd   7ba  $9,950,000\n",
              "99      1828 Page St           Haight, San Francisco, CA  2bd   2ba  $1,395,000"
            ]
          },
          "metadata": {
            "tags": []
          },
          "execution_count": 5
        }
      ]
    },
    {
      "cell_type": "markdown",
      "metadata": {
        "id": "bxb8HyJW_foG"
      },
      "source": [
        "### Data Cleaning"
      ]
    },
    {
      "cell_type": "code",
      "metadata": {
        "id": "Enm6NSeo_foG"
      },
      "source": [
        "real_estate['Beds'] = real_estate['Beds'].apply(lambda x: x.strip('bd'))\n",
        "real_estate['Baths'] = real_estate['Baths'].apply(lambda x: x.strip('ba'))"
      ],
      "execution_count": 6,
      "outputs": []
    },
    {
      "cell_type": "markdown",
      "metadata": {
        "id": "wKSsLSrB_foG"
      },
      "source": [
        "#### Update DataFrame"
      ]
    },
    {
      "cell_type": "code",
      "metadata": {
        "colab": {
          "base_uri": "https://localhost:8080/",
          "height": 419
        },
        "id": "TA-0mAkW_foG",
        "outputId": "c9efe35b-dd7c-48c5-ea8c-e1bce9f8fed6"
      },
      "source": [
        "real_estate"
      ],
      "execution_count": 7,
      "outputs": [
        {
          "output_type": "execute_result",
          "data": {
            "text/html": [
              "<div>\n",
              "<style scoped>\n",
              "    .dataframe tbody tr th:only-of-type {\n",
              "        vertical-align: middle;\n",
              "    }\n",
              "\n",
              "    .dataframe tbody tr th {\n",
              "        vertical-align: top;\n",
              "    }\n",
              "\n",
              "    .dataframe thead th {\n",
              "        text-align: right;\n",
              "    }\n",
              "</style>\n",
              "<table border=\"1\" class=\"dataframe\">\n",
              "  <thead>\n",
              "    <tr style=\"text-align: right;\">\n",
              "      <th></th>\n",
              "      <th>Street</th>\n",
              "      <th>Regions</th>\n",
              "      <th>Beds</th>\n",
              "      <th>Baths</th>\n",
              "      <th>Price</th>\n",
              "    </tr>\n",
              "  </thead>\n",
              "  <tbody>\n",
              "    <tr>\n",
              "      <th>0</th>\n",
              "      <td>2018 42nd Ave</td>\n",
              "      <td>Outer Sunset, San Francisco, CA</td>\n",
              "      <td>2</td>\n",
              "      <td>1</td>\n",
              "      <td>$899,000</td>\n",
              "    </tr>\n",
              "    <tr>\n",
              "      <th>1</th>\n",
              "      <td>4366 25th St</td>\n",
              "      <td>Noe Valley, San Francisco, CA</td>\n",
              "      <td>3</td>\n",
              "      <td>2</td>\n",
              "      <td>$1,795,000</td>\n",
              "    </tr>\n",
              "    <tr>\n",
              "      <th>2</th>\n",
              "      <td>224 Sea Cliff Ave</td>\n",
              "      <td>Seacliff, San Francisco, CA</td>\n",
              "      <td>6</td>\n",
              "      <td>7</td>\n",
              "      <td>$15,375,000</td>\n",
              "    </tr>\n",
              "    <tr>\n",
              "      <th>3</th>\n",
              "      <td>45 Capra Way</td>\n",
              "      <td>Marina, San Francisco, CA</td>\n",
              "      <td>4</td>\n",
              "      <td>6</td>\n",
              "      <td>$10,300,000</td>\n",
              "    </tr>\n",
              "    <tr>\n",
              "      <th>4</th>\n",
              "      <td>122 Chicago Way</td>\n",
              "      <td>Crocker Amazon, San Francisco, CA</td>\n",
              "      <td>4</td>\n",
              "      <td>3</td>\n",
              "      <td>$1,095,000</td>\n",
              "    </tr>\n",
              "    <tr>\n",
              "      <th>...</th>\n",
              "      <td>...</td>\n",
              "      <td>...</td>\n",
              "      <td>...</td>\n",
              "      <td>...</td>\n",
              "      <td>...</td>\n",
              "    </tr>\n",
              "    <tr>\n",
              "      <th>95</th>\n",
              "      <td>1506 25th St</td>\n",
              "      <td>Potrero Hill, San Francisco, CA</td>\n",
              "      <td>4</td>\n",
              "      <td>3</td>\n",
              "      <td>$1,995,000</td>\n",
              "    </tr>\n",
              "    <tr>\n",
              "      <th>96</th>\n",
              "      <td>262 Downey St</td>\n",
              "      <td>Ashbury Heights, San Francisco, CA</td>\n",
              "      <td>2</td>\n",
              "      <td>2</td>\n",
              "      <td>$1,199,000</td>\n",
              "    </tr>\n",
              "    <tr>\n",
              "      <th>97</th>\n",
              "      <td>148 Corwin St</td>\n",
              "      <td>Eureka Valley, San Francisco, CA</td>\n",
              "      <td>2</td>\n",
              "      <td>3</td>\n",
              "      <td>$1,699,000</td>\n",
              "    </tr>\n",
              "    <tr>\n",
              "      <th>98</th>\n",
              "      <td>898 Francisco St</td>\n",
              "      <td>Russian Hill, San Francisco, CA</td>\n",
              "      <td>6</td>\n",
              "      <td>7</td>\n",
              "      <td>$9,950,000</td>\n",
              "    </tr>\n",
              "    <tr>\n",
              "      <th>99</th>\n",
              "      <td>1828 Page St</td>\n",
              "      <td>Haight, San Francisco, CA</td>\n",
              "      <td>2</td>\n",
              "      <td>2</td>\n",
              "      <td>$1,395,000</td>\n",
              "    </tr>\n",
              "  </tbody>\n",
              "</table>\n",
              "<p>100 rows × 5 columns</p>\n",
              "</div>"
            ],
            "text/plain": [
              "               Street                             Regions  ... Baths        Price\n",
              "0       2018 42nd Ave     Outer Sunset, San Francisco, CA  ...     1     $899,000\n",
              "1        4366 25th St       Noe Valley, San Francisco, CA  ...     2   $1,795,000\n",
              "2   224 Sea Cliff Ave         Seacliff, San Francisco, CA  ...     7  $15,375,000\n",
              "3        45 Capra Way           Marina, San Francisco, CA  ...     6  $10,300,000\n",
              "4     122 Chicago Way   Crocker Amazon, San Francisco, CA  ...     3   $1,095,000\n",
              "..                ...                                 ...  ...   ...          ...\n",
              "95       1506 25th St     Potrero Hill, San Francisco, CA  ...     3   $1,995,000\n",
              "96      262 Downey St  Ashbury Heights, San Francisco, CA  ...     2   $1,199,000\n",
              "97      148 Corwin St    Eureka Valley, San Francisco, CA  ...     3   $1,699,000\n",
              "98   898 Francisco St     Russian Hill, San Francisco, CA  ...     7   $9,950,000\n",
              "99       1828 Page St           Haight, San Francisco, CA  ...     2   $1,395,000\n",
              "\n",
              "[100 rows x 5 columns]"
            ]
          },
          "metadata": {
            "tags": []
          },
          "execution_count": 7
        }
      ]
    },
    {
      "cell_type": "markdown",
      "metadata": {
        "id": "ae_KRGj2_foH"
      },
      "source": [
        "### Save in Excel"
      ]
    },
    {
      "cell_type": "code",
      "metadata": {
        "id": "POcmkip1_foH"
      },
      "source": [
        "real_estate.to_excel('realestate_multiple_pages.xlsx', index=False)"
      ],
      "execution_count": null,
      "outputs": []
    },
    {
      "cell_type": "code",
      "metadata": {
        "id": "D8MSGXhZ_foH"
      },
      "source": [
        ""
      ],
      "execution_count": null,
      "outputs": []
    }
  ]
}